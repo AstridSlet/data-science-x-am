{
 "cells": [
  {
   "cell_type": "markdown",
   "metadata": {},
   "source": [
    "# Exploring bodies"
   ]
  },
  {
   "cell_type": "code",
   "execution_count": 1,
   "metadata": {},
   "outputs": [],
   "source": [
    "import pandas as pd"
   ]
  },
  {
   "cell_type": "code",
   "execution_count": 32,
   "metadata": {},
   "outputs": [
    {
     "data": {
      "text/html": [
       "<div>\n",
       "<style scoped>\n",
       "    .dataframe tbody tr th:only-of-type {\n",
       "        vertical-align: middle;\n",
       "    }\n",
       "\n",
       "    .dataframe tbody tr th {\n",
       "        vertical-align: top;\n",
       "    }\n",
       "\n",
       "    .dataframe thead th {\n",
       "        text-align: right;\n",
       "    }\n",
       "</style>\n",
       "<table border=\"1\" class=\"dataframe\">\n",
       "  <thead>\n",
       "    <tr style=\"text-align: right;\">\n",
       "      <th></th>\n",
       "      <th>Unnamed: 0</th>\n",
       "      <th>bodypart</th>\n",
       "      <th>owner</th>\n",
       "      <th>owner_gender</th>\n",
       "      <th>description</th>\n",
       "      <th>ID</th>\n",
       "      <th>author_gender</th>\n",
       "    </tr>\n",
       "  </thead>\n",
       "  <tbody>\n",
       "    <tr>\n",
       "      <th>0</th>\n",
       "      <td>0</td>\n",
       "      <td>hands</td>\n",
       "      <td>her</td>\n",
       "      <td>F</td>\n",
       "      <td>[]</td>\n",
       "      <td>PG67640_text</td>\n",
       "      <td>F</td>\n",
       "    </tr>\n",
       "    <tr>\n",
       "      <th>1</th>\n",
       "      <td>1</td>\n",
       "      <td>lung</td>\n",
       "      <td>her</td>\n",
       "      <td>F</td>\n",
       "      <td>['left']</td>\n",
       "      <td>PG67640_text</td>\n",
       "      <td>F</td>\n",
       "    </tr>\n",
       "    <tr>\n",
       "      <th>2</th>\n",
       "      <td>2</td>\n",
       "      <td>face</td>\n",
       "      <td>her</td>\n",
       "      <td>F</td>\n",
       "      <td>[]</td>\n",
       "      <td>PG67640_text</td>\n",
       "      <td>F</td>\n",
       "    </tr>\n",
       "  </tbody>\n",
       "</table>\n",
       "</div>"
      ],
      "text/plain": [
       "   Unnamed: 0 bodypart owner owner_gender description            ID  \\\n",
       "0           0    hands   her            F          []  PG67640_text   \n",
       "1           1     lung   her            F    ['left']  PG67640_text   \n",
       "2           2     face   her            F          []  PG67640_text   \n",
       "\n",
       "  author_gender  \n",
       "0             F  \n",
       "1             F  \n",
       "2             F  "
      ]
     },
     "execution_count": 32,
     "metadata": {},
     "output_type": "execute_result"
    }
   ],
   "source": [
    "df = pd.read_csv(\"/Users/thearolskovsloth/data-science-x-am/output/body_descriptions.csv\")\n",
    "df.head(3)"
   ]
  },
  {
   "cell_type": "code",
   "execution_count": 5,
   "metadata": {},
   "outputs": [],
   "source": [
    "female_owners = df.loc[df['owner_gender']==\"F\"]\n",
    "male_owners = df.loc[df['owner_gender']==\"M\"]"
   ]
  },
  {
   "cell_type": "code",
   "execution_count": 11,
   "metadata": {},
   "outputs": [
    {
     "name": "stdout",
     "output_type": "stream",
     "text": [
      "percentage part of male/female owners of bodyparts: female: 32.958942816654414 % and males: 67.04105718334559 %\n"
     ]
    }
   ],
   "source": [
    "print(\"percentage part of male/female owners of bodyparts:\", \"female:\", len(female_owners)/len(df)*100, \"%\", \"and males:\", len(male_owners)/len(df)*100, \"%\")"
   ]
  },
  {
   "cell_type": "code",
   "execution_count": 24,
   "metadata": {},
   "outputs": [
    {
     "name": "stdout",
     "output_type": "stream",
     "text": [
      "8\n"
     ]
    }
   ],
   "source": [
    "print(len(female_owners.iloc[1,4]))"
   ]
  },
  {
   "cell_type": "code",
   "execution_count": 30,
   "metadata": {},
   "outputs": [
    {
     "data": {
      "text/html": [
       "<div>\n",
       "<style scoped>\n",
       "    .dataframe tbody tr th:only-of-type {\n",
       "        vertical-align: middle;\n",
       "    }\n",
       "\n",
       "    .dataframe tbody tr th {\n",
       "        vertical-align: top;\n",
       "    }\n",
       "\n",
       "    .dataframe thead th {\n",
       "        text-align: right;\n",
       "    }\n",
       "</style>\n",
       "<table border=\"1\" class=\"dataframe\">\n",
       "  <thead>\n",
       "    <tr style=\"text-align: right;\">\n",
       "      <th></th>\n",
       "      <th>Unnamed: 0</th>\n",
       "      <th>bodypart</th>\n",
       "      <th>owner</th>\n",
       "      <th>owner_gender</th>\n",
       "      <th>description</th>\n",
       "      <th>ID</th>\n",
       "      <th>author_gender</th>\n",
       "    </tr>\n",
       "  </thead>\n",
       "  <tbody>\n",
       "    <tr>\n",
       "      <th>1</th>\n",
       "      <td>1</td>\n",
       "      <td>lung</td>\n",
       "      <td>her</td>\n",
       "      <td>F</td>\n",
       "      <td>['left']</td>\n",
       "      <td>PG67640_text</td>\n",
       "      <td>F</td>\n",
       "    </tr>\n",
       "    <tr>\n",
       "      <th>42</th>\n",
       "      <td>42</td>\n",
       "      <td>hair</td>\n",
       "      <td>her</td>\n",
       "      <td>F</td>\n",
       "      <td>['light']</td>\n",
       "      <td>PG66460_text</td>\n",
       "      <td>M</td>\n",
       "    </tr>\n",
       "    <tr>\n",
       "      <th>100</th>\n",
       "      <td>100</td>\n",
       "      <td>hair</td>\n",
       "      <td>her</td>\n",
       "      <td>F</td>\n",
       "      <td>['tailed']</td>\n",
       "      <td>PG65809_text</td>\n",
       "      <td>F</td>\n",
       "    </tr>\n",
       "  </tbody>\n",
       "</table>\n",
       "</div>"
      ],
      "text/plain": [
       "     Unnamed: 0 bodypart owner owner_gender description            ID  \\\n",
       "1             1     lung   her            F    ['left']  PG67640_text   \n",
       "42           42     hair   her            F   ['light']  PG66460_text   \n",
       "100         100     hair   her            F  ['tailed']  PG65809_text   \n",
       "\n",
       "    author_gender  \n",
       "1               F  \n",
       "42              M  \n",
       "100             F  "
      ]
     },
     "execution_count": 30,
     "metadata": {},
     "output_type": "execute_result"
    }
   ],
   "source": [
    "described_male_bodyparts = male_owners[male_owners['description'].str.len() > 2]\n",
    "described_male_bodyparts.head(3)\n",
    "\n",
    "described_female_bodyparts = female_owners[female_owners['description'].str.len() > 2]\n",
    "described_female_bodyparts.head(3)"
   ]
  },
  {
   "cell_type": "code",
   "execution_count": 88,
   "metadata": {},
   "outputs": [
    {
     "data": {
      "text/html": [
       "<div>\n",
       "<style scoped>\n",
       "    .dataframe tbody tr th:only-of-type {\n",
       "        vertical-align: middle;\n",
       "    }\n",
       "\n",
       "    .dataframe tbody tr th {\n",
       "        vertical-align: top;\n",
       "    }\n",
       "\n",
       "    .dataframe thead th {\n",
       "        text-align: right;\n",
       "    }\n",
       "</style>\n",
       "<table border=\"1\" class=\"dataframe\">\n",
       "  <thead>\n",
       "    <tr style=\"text-align: right;\">\n",
       "      <th></th>\n",
       "      <th>descriptive</th>\n",
       "      <th>counts_male</th>\n",
       "    </tr>\n",
       "  </thead>\n",
       "  <tbody>\n",
       "    <tr>\n",
       "      <th>0</th>\n",
       "      <td>['own']</td>\n",
       "      <td>2597</td>\n",
       "    </tr>\n",
       "    <tr>\n",
       "      <th>1</th>\n",
       "      <td>['right']</td>\n",
       "      <td>2147</td>\n",
       "    </tr>\n",
       "    <tr>\n",
       "      <th>2</th>\n",
       "      <td>['left']</td>\n",
       "      <td>1907</td>\n",
       "    </tr>\n",
       "    <tr>\n",
       "      <th>3</th>\n",
       "      <td>['long']</td>\n",
       "      <td>696</td>\n",
       "    </tr>\n",
       "    <tr>\n",
       "      <th>4</th>\n",
       "      <td>['white']</td>\n",
       "      <td>573</td>\n",
       "    </tr>\n",
       "  </tbody>\n",
       "</table>\n",
       "</div>"
      ],
      "text/plain": [
       "  descriptive  counts_male\n",
       "0     ['own']         2597\n",
       "1   ['right']         2147\n",
       "2    ['left']         1907\n",
       "3    ['long']          696\n",
       "4   ['white']          573"
      ]
     },
     "execution_count": 88,
     "metadata": {},
     "output_type": "execute_result"
    }
   ],
   "source": [
    "top100males = described_male_bodyparts['description'].value_counts()[:20].rename_axis('descriptive').reset_index(name='counts_male')\n",
    "top100males = pd.DataFrame (top100males)\n",
    "\n",
    "top100males.head()"
   ]
  },
  {
   "cell_type": "code",
   "execution_count": 119,
   "metadata": {},
   "outputs": [
    {
     "name": "stdout",
     "output_type": "stream",
     "text": [
      "661\n"
     ]
    },
    {
     "data": {
      "text/html": [
       "<div>\n",
       "<style scoped>\n",
       "    .dataframe tbody tr th:only-of-type {\n",
       "        vertical-align: middle;\n",
       "    }\n",
       "\n",
       "    .dataframe tbody tr th {\n",
       "        vertical-align: top;\n",
       "    }\n",
       "\n",
       "    .dataframe thead th {\n",
       "        text-align: right;\n",
       "    }\n",
       "</style>\n",
       "<table border=\"1\" class=\"dataframe\">\n",
       "  <thead>\n",
       "    <tr style=\"text-align: right;\">\n",
       "      <th></th>\n",
       "      <th>descriptive</th>\n",
       "      <th>counts_female</th>\n",
       "    </tr>\n",
       "  </thead>\n",
       "  <tbody>\n",
       "    <tr>\n",
       "      <th>0</th>\n",
       "      <td>['own']</td>\n",
       "      <td>981</td>\n",
       "    </tr>\n",
       "    <tr>\n",
       "      <th>1</th>\n",
       "      <td>['white']</td>\n",
       "      <td>661</td>\n",
       "    </tr>\n",
       "    <tr>\n",
       "      <th>2</th>\n",
       "      <td>['dark']</td>\n",
       "      <td>528</td>\n",
       "    </tr>\n",
       "    <tr>\n",
       "      <th>3</th>\n",
       "      <td>['little']</td>\n",
       "      <td>476</td>\n",
       "    </tr>\n",
       "    <tr>\n",
       "      <th>4</th>\n",
       "      <td>['brown']</td>\n",
       "      <td>414</td>\n",
       "    </tr>\n",
       "  </tbody>\n",
       "</table>\n",
       "</div>"
      ],
      "text/plain": [
       "  descriptive  counts_female\n",
       "0     ['own']            981\n",
       "1   ['white']            661\n",
       "2    ['dark']            528\n",
       "3  ['little']            476\n",
       "4   ['brown']            414"
      ]
     },
     "execution_count": 119,
     "metadata": {},
     "output_type": "execute_result"
    }
   ],
   "source": [
    "top100females = described_female_bodyparts['description'].value_counts()[:20].rename_axis('descriptive').reset_index(name='counts_female')\n",
    "top100females = pd.DataFrame (top100females)\n",
    "print(top100females.iloc[1,1])\n",
    "top100females.head()"
   ]
  },
  {
   "cell_type": "code",
   "execution_count": 90,
   "metadata": {},
   "outputs": [
    {
     "data": {
      "text/html": [
       "<div>\n",
       "<style scoped>\n",
       "    .dataframe tbody tr th:only-of-type {\n",
       "        vertical-align: middle;\n",
       "    }\n",
       "\n",
       "    .dataframe tbody tr th {\n",
       "        vertical-align: top;\n",
       "    }\n",
       "\n",
       "    .dataframe thead th {\n",
       "        text-align: right;\n",
       "    }\n",
       "</style>\n",
       "<table border=\"1\" class=\"dataframe\">\n",
       "  <thead>\n",
       "    <tr style=\"text-align: right;\">\n",
       "      <th></th>\n",
       "      <th>descriptive</th>\n",
       "      <th>counts_female</th>\n",
       "      <th>counts_male</th>\n",
       "    </tr>\n",
       "  </thead>\n",
       "  <tbody>\n",
       "    <tr>\n",
       "      <th>9</th>\n",
       "      <td>['bare']</td>\n",
       "      <td>318</td>\n",
       "      <td>419</td>\n",
       "    </tr>\n",
       "    <tr>\n",
       "      <th>10</th>\n",
       "      <td>['red']</td>\n",
       "      <td>261</td>\n",
       "      <td>363</td>\n",
       "    </tr>\n",
       "    <tr>\n",
       "      <th>11</th>\n",
       "      <td>['whole']</td>\n",
       "      <td>212</td>\n",
       "      <td>400</td>\n",
       "    </tr>\n",
       "    <tr>\n",
       "      <th>12</th>\n",
       "      <td>['long']</td>\n",
       "      <td>194</td>\n",
       "      <td>696</td>\n",
       "    </tr>\n",
       "    <tr>\n",
       "      <th>13</th>\n",
       "      <td>['thin']</td>\n",
       "      <td>187</td>\n",
       "      <td>402</td>\n",
       "    </tr>\n",
       "  </tbody>\n",
       "</table>\n",
       "</div>"
      ],
      "text/plain": [
       "   descriptive  counts_female  counts_male\n",
       "9     ['bare']            318          419\n",
       "10     ['red']            261          363\n",
       "11   ['whole']            212          400\n",
       "12    ['long']            194          696\n",
       "13    ['thin']            187          402"
      ]
     },
     "execution_count": 90,
     "metadata": {},
     "output_type": "execute_result"
    }
   ],
   "source": [
    "#merge\n",
    "adjectives = pd.merge(top100females, top100males, on=['descriptive'])\n",
    "adjectives.tail()"
   ]
  },
  {
   "cell_type": "code",
   "execution_count": 103,
   "metadata": {},
   "outputs": [
    {
     "data": {
      "image/png": "[encoded data removed]",
      "text/plain": [
       "<Figure size 540x252 with 1 Axes>"
      ]
     },
     "metadata": {
      "needs_background": "light"
     },
     "output_type": "display_data"
    }
   ],
   "source": [
    "#skal standardiseres\n",
    "import numpy as np \n",
    "import matplotlib.pyplot as plt \n",
    "import re\n",
    "\n",
    "X = list(adjectives['descriptive'])\n",
    "Ygirls = list(adjectives['counts_female'])\n",
    "Zboys = list(adjectives['counts_male'])\n",
    "  \n",
    "X_axis = np.arange(len(X))\n",
    "  \n",
    "plt.bar(X_axis - 0.2, Ygirls, 0.4, label = 'Girls')\n",
    "plt.bar(X_axis + 0.2, Zboys, 0.4, label = 'Boys')\n",
    "  \n",
    "plt.xticks(X_axis, X,rotation=90)\n",
    "plt.xlabel(\"Groups\")\n",
    "plt.ylabel(\"Number of Students\")\n",
    "plt.title(\"Number of Students in each group\")\n",
    "plt.legend()\n",
    "plt.show()"
   ]
  },
  {
   "cell_type": "code",
   "execution_count": 125,
   "metadata": {},
   "outputs": [],
   "source": [
    "#prepare file\n",
    "word_list_female = []\n",
    "word_list_male = []\n",
    "def repeat(word, n):\n",
    "    \n",
    "    repeat_word = word[:]\n",
    "    result = \"\"\n",
    "\n",
    "    for i in range(n):\n",
    "        result = result + \" \" + repeat_word\n",
    "\n",
    "    word_list_male.append(result)\n",
    "\n",
    "for w in range(1,len(top100females)):\n",
    "    stripped_w = re.sub(r'[^a-zA-Z]', '', str(top100females.iloc[w,0]))\n",
    "    repeat(stripped_w, top100females.iloc[w,1])\n",
    "\n",
    "words_male=' '.join(map(str,word_list_male))\n",
    "words_female=' '.join(map(str,word_list_female))"
   ]
  },
  {
   "cell_type": "code",
   "execution_count": 126,
   "metadata": {},
   "outputs": [
    {
     "data": {
      "image/png": "[encoded data removed]",
      "text/plain": [
       "<Figure size 540x252 with 1 Axes>"
      ]
     },
     "metadata": {
      "needs_background": "light"
     },
     "output_type": "display_data"
    }
   ],
   "source": [
    "import matplotlib.pyplot as plt\n",
    "from wordcloud import WordCloud, STOPWORDS\n",
    "import numpy as np\n",
    "from PIL import Image\n",
    "\n",
    "mask_male = np.array(Image.open(r'/Users/thearolskovsloth/Downloads/male.jpg'))\n",
    "\n",
    "male_cloud = WordCloud(stopwords = STOPWORDS,\n",
    "               mask = mask_male, background_color = \"white\",\n",
    "               max_words = 20, max_font_size = 500,\n",
    "               random_state = 42, width = mask_male.shape[1],\n",
    "               height = mask_male.shape[0])\n",
    "\n",
    "male_cloud.generate(words_male)\n",
    "plt.imshow(male_cloud, interpolation=\"None\")\n",
    "plt.axis('off')\n",
    "plt.show()"
   ]
  },
  {
   "cell_type": "code",
   "execution_count": null,
   "metadata": {},
   "outputs": [],
   "source": [
    "mask_female = np.array(Image.open(r'/Users/thearolskovsloth/Downloads/female.jpg'))"
   ]
  },
  {
   "cell_type": "markdown",
   "metadata": {},
   "source": []
  }
 ],
 "metadata": {
  "interpreter": {
   "hash": "c5d759490535174562faddd971985103d728b6de5f33818b679b627dfbac3186"
  },
  "kernelspec": {
   "display_name": "Python 3.9.7 ('datascience')",
   "language": "python",
   "name": "python3"
  },
  "language_info": {
   "codemirror_mode": {
    "name": "ipython",
    "version": 3
   },
   "file_extension": ".py",
   "mimetype": "text/x-python",
   "name": "python",
   "nbconvert_exporter": "python",
   "pygments_lexer": "ipython3",
   "version": "3.9.7"
  },
  "orig_nbformat": 4
 },
 "nbformat": 4,
 "nbformat_minor": 2
}
